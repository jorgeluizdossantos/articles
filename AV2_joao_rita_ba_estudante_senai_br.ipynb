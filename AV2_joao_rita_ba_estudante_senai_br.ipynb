{
  "nbformat": 4,
  "nbformat_minor": 0,
  "metadata": {
    "colab": {
      "provenance": [],
      "authorship_tag": "ABX9TyOcEu0cmSEDsZZQ82HiHpGP",
      "include_colab_link": true
    },
    "kernelspec": {
      "name": "python3",
      "display_name": "Python 3"
    },
    "language_info": {
      "name": "python"
    }
  },
  "cells": [
    {
      "cell_type": "markdown",
      "metadata": {
        "id": "view-in-github",
        "colab_type": "text"
      },
      "source": [
        "<a href=\"https://colab.research.google.com/github/jorgeluizdossantos/articles/blob/main/AV2_joao_rita_ba_estudante_senai_br.ipynb\" target=\"_parent\"><img src=\"https://colab.research.google.com/assets/colab-badge.svg\" alt=\"Open In Colab\"/></a>"
      ]
    },
    {
      "cell_type": "code",
      "source": [],
      "metadata": {
        "id": "CSwdYPFL9RN2"
      },
      "execution_count": null,
      "outputs": []
    },
    {
      "cell_type": "markdown",
      "source": [
        "João Marcelo Rocha Pinheiro - joao.rita@ba.estudante.senai.br"
      ],
      "metadata": {
        "id": "I30tgM7CUIs7"
      }
    },
    {
      "cell_type": "markdown",
      "source": [
        "\n",
        "1 - Construa uma FUNÇÃO do PYTHON que recebe como parâmetro uma lista de números inteiros aleatórios, que pode conter números negativos e positivos, e retorna uma lista ORDENADA de forma CRESCENTE, formada a partir da lista recebida e que descarta os números negativos. Obs.: 1) a ordenação NÃO PODE SER FEITA USANDO UMA FUNÇÃO INTERNA DO PYTHON. 2) APENAS A FUNÇÃO DEVE SER COLOCADA NA RESPOSTA E A FUNÇÃO RECEBE A LISTA (NÃO IMPORTA COMO A LISTA É GERADA)"
      ],
      "metadata": {
        "id": "BtRLMqBBFUdt"
      }
    },
    {
      "cell_type": "code",
      "execution_count": null,
      "metadata": {
        "id": "CC4Gc7n9_uGm"
      },
      "outputs": [],
      "source": []
    },
    {
      "cell_type": "code",
      "source": [],
      "metadata": {
        "id": "qE_8gfmbA3TD"
      },
      "execution_count": null,
      "outputs": []
    },
    {
      "cell_type": "markdown",
      "source": [
        "2 - Considere X como o número de LETRAS do seu PRIMEIRO nome. Construa uma programa em Python que lê X números inteiros digitados pelo usuário, podendo esses números serem positivos ou negativos, inclui esses números em uma lista, e em seguida: \n",
        "a) imprime o maior elemento da lista;\n",
        "b) imprime o menor elemento da lista;\n",
        "c) gera uma NOVA LISTA que não contenha números duplicados e imprime essa nova lista.\n",
        "\n",
        "Observação: Não utilize funções embutidas do Python para resolver o exercício.\n"
      ],
      "metadata": {
        "id": "Y9L8KrfzFZtr"
      }
    },
    {
      "cell_type": "code",
      "source": [],
      "metadata": {
        "id": "1jyjn5CBFdVj"
      },
      "execution_count": null,
      "outputs": []
    },
    {
      "cell_type": "code",
      "source": [
        "\n"
      ],
      "metadata": {
        "id": "VbDbmUhoAlXr"
      },
      "execution_count": null,
      "outputs": []
    },
    {
      "cell_type": "markdown",
      "source": [
        "3 - Crie uma função em Python para receber como parâmetro um valor numérico (real) correspondente ao salário de um funcionário e que retorne o valor de desconto do imposto de renda, com base na seguinte regra:\n",
        "a) se o valor do salário for menor que R$ 4.000,00, o salário estará isento de imposto;\n",
        "b) Se o valor do salário for maior ou igual a  4.000,00 e  menor que  R$ 7.000,00 o desconto será de 15%;\n",
        "b) se o valor do salário for maior ou igual a e R$ 7.000,00, o desconto será de 20%;\n",
        "O programa deverá imprimir uma mensagem indicando o valor do desconto ou se o valor está isento de taxação."
      ],
      "metadata": {
        "id": "ZL9aKl_mFi_-"
      }
    },
    {
      "cell_type": "code",
      "source": [],
      "metadata": {
        "id": "mRcRG5Snulqd"
      },
      "execution_count": null,
      "outputs": []
    },
    {
      "cell_type": "code",
      "source": [],
      "metadata": {
        "id": "nZaybdz8Fluo"
      },
      "execution_count": null,
      "outputs": []
    },
    {
      "cell_type": "markdown",
      "source": [
        "4 - Crie programa em Python para ler uma sequencia de CPFs dIgitados pelo usuário. Para cada CPF o programa deverá solicitar as informações de NOME, ENDEREÇO E TELEFONE, guardando essas informações em uma lista que será armazenada em um dicionário, cuja chave será o CPF."
      ],
      "metadata": {
        "id": "eeHNAImnF8Je"
      }
    },
    {
      "cell_type": "code",
      "source": [],
      "metadata": {
        "id": "deb-VmdkF7Uy"
      },
      "execution_count": null,
      "outputs": []
    },
    {
      "cell_type": "code",
      "source": [
        "print(info)"
      ],
      "metadata": {
        "id": "tdtrGD4RILvJ"
      },
      "execution_count": null,
      "outputs": []
    },
    {
      "cell_type": "code",
      "source": [],
      "metadata": {
        "id": "X1ZZMetGGz4_"
      },
      "execution_count": null,
      "outputs": []
    }
  ]
}