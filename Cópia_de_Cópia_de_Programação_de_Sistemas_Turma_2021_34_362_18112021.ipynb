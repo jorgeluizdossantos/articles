{
  "nbformat": 4,
  "nbformat_minor": 0,
  "metadata": {
    "colab": {
      "name": "Cópia de Cópia de Programação de Sistemas - Turma 2021.34.362 - 18112021.ipynb",
      "provenance": [],
      "collapsed_sections": [],
      "toc_visible": true,
      "authorship_tag": "ABX9TyNPpuV12RAsLkncU3AHpDNP",
      "include_colab_link": true
    },
    "kernelspec": {
      "name": "python3",
      "display_name": "Python 3"
    },
    "language_info": {
      "name": "python"
    }
  },
  "cells": [
    {
      "cell_type": "markdown",
      "metadata": {
        "id": "view-in-github",
        "colab_type": "text"
      },
      "source": [
        "<a href=\"https://colab.research.google.com/github/jorgeluizdossantos/articles/blob/main/C%C3%B3pia_de_C%C3%B3pia_de_Programa%C3%A7%C3%A3o_de_Sistemas_Turma_2021_34_362_18112021.ipynb\" target=\"_parent\"><img src=\"https://colab.research.google.com/assets/colab-badge.svg\" alt=\"Open In Colab\"/></a>"
      ]
    },
    {
      "cell_type": "markdown",
      "metadata": {
        "id": "eFuzXNJ_6zuJ"
      },
      "source": [
        "## Exercícios - Introdução ao Python"
      ]
    },
    {
      "cell_type": "markdown",
      "metadata": {
        "id": "kaPLOW7x7nKV"
      },
      "source": [
        "1 - Faça um programa que exiba o texto: \"Digite seu NOME completo:\" e em seguida exiba o texto digitado novamente na tela, com um cumprimento: \"Olá, 'nome'!\""
      ]
    },
    {
      "cell_type": "code",
      "metadata": {
        "id": "iHGx-IBGHt83"
      },
      "source": [
        "#Resposta da questão 1"
      ],
      "execution_count": null,
      "outputs": []
    },
    {
      "cell_type": "markdown",
      "metadata": {
        "id": "aMjIK_UT7oJH"
      },
      "source": [
        "2 - Suponha que o preço de capa de um livro seja 24.95 mas as livrarias recebem um desconto de 40%. O transporte custa R$ 3,00 para o primeiro exemplar e 75 centavos para cada exemplar adicional. Qual é o custo total de atacado para 60 cópias?"
      ]
    },
    {
      "cell_type": "code",
      "metadata": {
        "id": "BiQLMBxqH0fy"
      },
      "source": [
        "#Resposta da questão 2"
      ],
      "execution_count": null,
      "outputs": []
    },
    {
      "cell_type": "markdown",
      "metadata": {
        "id": "tryxw55k7nXT"
      },
      "source": [
        "3 - Faça um Programa que peça um número e então mostre a mensagem O número informado foi [número]."
      ]
    },
    {
      "cell_type": "code",
      "metadata": {
        "id": "bcX-BGtgH2bz"
      },
      "source": [
        "#Resposta da questão 3"
      ],
      "execution_count": null,
      "outputs": []
    },
    {
      "cell_type": "markdown",
      "metadata": {
        "id": "YBUQeRl67ngl"
      },
      "source": [
        "4 - Faça um Programa que peça que o usuário digite o valor do raio de um círculo, calcule a área do cículo e mostre o valor calculado na tela."
      ]
    },
    {
      "cell_type": "code",
      "metadata": {
        "id": "o9mLQS12H7RN"
      },
      "source": [
        "#Resposta da questão 4"
      ],
      "execution_count": null,
      "outputs": []
    },
    {
      "cell_type": "markdown",
      "metadata": {
        "id": "mCfGJ6mP7np0"
      },
      "source": [
        "5 - Dada a função do primeiro grau f(x) = 2x + 3, crie um programa em Python para calcular a raiz da função e atribuir o valor da raiz à variável r1."
      ]
    },
    {
      "cell_type": "code",
      "metadata": {
        "id": "uiVaAMCwH9HT"
      },
      "source": [
        "#Resposta da questão 5"
      ],
      "execution_count": null,
      "outputs": []
    },
    {
      "cell_type": "markdown",
      "metadata": {
        "id": "7ok7G-sJyMsd"
      },
      "source": [
        "6 - Faça um programa para ler o valor da cotação do Dólar do dia e imprimir o valor correspondente em Reais."
      ]
    },
    {
      "cell_type": "code",
      "metadata": {
        "id": "VSRFG4oSH_hd"
      },
      "source": [
        "#Resposta da questão 6"
      ],
      "execution_count": null,
      "outputs": []
    },
    {
      "cell_type": "markdown",
      "metadata": {
        "id": "64o-ObXP7nyu"
      },
      "source": [
        "7 - Tendo como dado de entrada a altura (**h**) e o sexo de uma pessoa, construa um algoritmo que calcule seu peso ideal, utilizando as seguintes fórmulas:\n",
        "\n",
        "*   Para homens: (72.7*h) - 58\n",
        "*   Para mulheres: (62.1*h) - 44.7\n",
        "\n",
        "O valor calculado deve ser atribuído à variável **peso_calculado**.\n",
        "Ao final da execução o programa deverá imprimir \"Seu peso ideal é: \" xxx.\n"
      ]
    },
    {
      "cell_type": "code",
      "metadata": {
        "id": "nlH2OR6HIBya"
      },
      "source": [
        "#Resposta da questão 7"
      ],
      "execution_count": null,
      "outputs": []
    },
    {
      "cell_type": "markdown",
      "metadata": {
        "id": "jwi8ZGq92l5h"
      },
      "source": [
        "8 - Faça um programa em Python que leia a quantidade de dias, horas, minutos e segundos, a partir do teclado, atribua cada um desses valores a três variáveis diferente, calcule o total em segundos e imprima a frase: \"O tempo em segundos é: \" XX segundos."
      ]
    },
    {
      "cell_type": "code",
      "metadata": {
        "id": "9juTv80IIFix"
      },
      "source": [
        "#Resposta da questão 8"
      ],
      "execution_count": null,
      "outputs": []
    }
  ]
}